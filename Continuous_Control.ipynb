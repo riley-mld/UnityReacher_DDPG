{
 "cells": [
  {
   "cell_type": "markdown",
   "metadata": {},
   "source": [
    "# Continuous Control\n",
    "\n",
    "---\n",
    "\n",
    "In this notebook, you will learn how to use the Unity ML-Agents environment for the second project of the [Deep Reinforcement Learning Nanodegree](https://www.udacity.com/course/deep-reinforcement-learning-nanodegree--nd893) program.\n",
    "\n",
    "### 1. Start the Environment\n",
    "\n",
    "We begin by importing the necessary packages.  If the code cell below returns an error, please revisit the project instructions to double-check that you have installed [Unity ML-Agents](https://github.com/Unity-Technologies/ml-agents/blob/master/docs/Installation.md) and [NumPy](http://www.numpy.org/)."
   ]
  },
  {
   "cell_type": "code",
   "execution_count": 1,
   "metadata": {},
   "outputs": [],
   "source": [
    "from unityagents import UnityEnvironment\n",
    "import numpy as np"
   ]
  },
  {
   "cell_type": "markdown",
   "metadata": {},
   "source": [
    "Next, we will start the environment!  **_Before running the code cell below_**, change the `file_name` parameter to match the location of the Unity environment that you downloaded.\n",
    "\n",
    "- **Mac**: `\"path/to/Reacher.app\"`\n",
    "- **Windows** (x86): `\"path/to/Reacher_Windows_x86/Reacher.exe\"`\n",
    "- **Windows** (x86_64): `\"path/to/Reacher_Windows_x86_64/Reacher.exe\"`\n",
    "- **Linux** (x86): `\"path/to/Reacher_Linux/Reacher.x86\"`\n",
    "- **Linux** (x86_64): `\"path/to/Reacher_Linux/Reacher.x86_64\"`\n",
    "- **Linux** (x86, headless): `\"path/to/Reacher_Linux_NoVis/Reacher.x86\"`\n",
    "- **Linux** (x86_64, headless): `\"path/to/Reacher_Linux_NoVis/Reacher.x86_64\"`\n",
    "\n",
    "For instance, if you are using a Mac, then you downloaded `Reacher.app`.  If this file is in the same folder as the notebook, then the line below should appear as follows:\n",
    "```\n",
    "env = UnityEnvironment(file_name=\"Reacher.app\")\n",
    "```"
   ]
  },
  {
   "cell_type": "code",
   "execution_count": 2,
   "metadata": {},
   "outputs": [
    {
     "name": "stderr",
     "output_type": "stream",
     "text": [
      "INFO:unityagents:\n",
      "'Academy' started successfully!\n",
      "Unity Academy name: Academy\n",
      "        Number of Brains: 1\n",
      "        Number of External Brains : 1\n",
      "        Lesson number : 0\n",
      "        Reset Parameters :\n",
      "\t\tgoal_size -> 5.0\n",
      "\t\tgoal_speed -> 1.0\n",
      "Unity brain name: ReacherBrain\n",
      "        Number of Visual Observations (per agent): 0\n",
      "        Vector Observation space type: continuous\n",
      "        Vector Observation space size (per agent): 33\n",
      "        Number of stacked Vector Observation: 1\n",
      "        Vector Action space type: continuous\n",
      "        Vector Action space size (per agent): 4\n",
      "        Vector Action descriptions: , , , \n"
     ]
    }
   ],
   "source": [
    "env = UnityEnvironment(file_name='/media/riley/Work/PersonalProjects/AI/Nanodegrees/Deep_Reinforcement_Learning/UnityReacher_DRLN/Reacher_Linux/Reacher.x86_64')"
   ]
  },
  {
   "cell_type": "markdown",
   "metadata": {},
   "source": [
    "Environments contain **_brains_** which are responsible for deciding the actions of their associated agents. Here we check for the first brain available, and set it as the default brain we will be controlling from Python."
   ]
  },
  {
   "cell_type": "code",
   "execution_count": 3,
   "metadata": {},
   "outputs": [],
   "source": [
    "# get the default brain\n",
    "brain_name = env.brain_names[0]\n",
    "brain = env.brains[brain_name]"
   ]
  },
  {
   "cell_type": "markdown",
   "metadata": {},
   "source": [
    "### 2. Examine the State and Action Spaces\n",
    "\n",
    "In this environment, a double-jointed arm can move to target locations. A reward of `+0.1` is provided for each step that the agent's hand is in the goal location. Thus, the goal of your agent is to maintain its position at the target location for as many time steps as possible.\n",
    "\n",
    "The observation space consists of `33` variables corresponding to position, rotation, velocity, and angular velocities of the arm.  Each action is a vector with four numbers, corresponding to torque applicable to two joints.  Every entry in the action vector must be a number between `-1` and `1`.\n",
    "\n",
    "Run the code cell below to print some information about the environment."
   ]
  },
  {
   "cell_type": "code",
   "execution_count": 4,
   "metadata": {},
   "outputs": [
    {
     "name": "stdout",
     "output_type": "stream",
     "text": [
      "Number of agents: 20\n",
      "Size of each action: 4\n",
      "There are 20 agents. Each observes a state with length: 33\n",
      "The state for the first agent looks like: [ 0.00000000e+00 -4.00000000e+00  0.00000000e+00  1.00000000e+00\n",
      " -0.00000000e+00 -0.00000000e+00 -4.37113883e-08  0.00000000e+00\n",
      "  0.00000000e+00  0.00000000e+00  0.00000000e+00  0.00000000e+00\n",
      "  0.00000000e+00  0.00000000e+00 -1.00000000e+01  0.00000000e+00\n",
      "  1.00000000e+00 -0.00000000e+00 -0.00000000e+00 -4.37113883e-08\n",
      "  0.00000000e+00  0.00000000e+00  0.00000000e+00  0.00000000e+00\n",
      "  0.00000000e+00  0.00000000e+00  5.75471878e+00 -1.00000000e+00\n",
      "  5.55726624e+00  0.00000000e+00  1.00000000e+00  0.00000000e+00\n",
      " -1.68164849e-01]\n"
     ]
    }
   ],
   "source": [
    "# reset the environment\n",
    "env_info = env.reset(train_mode=True)[brain_name]\n",
    "\n",
    "# number of agents\n",
    "num_agents = len(env_info.agents)\n",
    "print('Number of agents:', num_agents)\n",
    "\n",
    "# size of each action\n",
    "action_size = brain.vector_action_space_size\n",
    "print('Size of each action:', action_size)\n",
    "\n",
    "# examine the state space \n",
    "states = env_info.vector_observations\n",
    "state_size = states.shape[1]\n",
    "print('There are {} agents. Each observes a state with length: {}'.format(states.shape[0], state_size))\n",
    "print('The state for the first agent looks like:', states[0])"
   ]
  },
  {
   "cell_type": "markdown",
   "metadata": {},
   "source": [
    "### 3. Train the agent in the enviroment\n",
    "\n",
    "In the next code cell, I will train the agent in the enviroment."
   ]
  },
  {
   "cell_type": "code",
   "execution_count": 5,
   "metadata": {},
   "outputs": [],
   "source": [
    "from agent import Agent\n",
    "\n",
    "# Create the agent from Agent class\n",
    "agent = Agent(state_size, action_size, num_agents, 23)"
   ]
  },
  {
   "cell_type": "code",
   "execution_count": 6,
   "metadata": {},
   "outputs": [],
   "source": [
    "from collections import deque\n",
    "import matplotlib.pyplot as plt\n",
    "%matplotlib inline\n",
    "\n",
    "\n",
    "def train(agent, n_episodes):\n",
    "    scores = []\n",
    "    scores_window = deque(maxlen=100)\n",
    "    best_score = 30.0\n",
    "    solved = False\n",
    "    \n",
    "    for episode in range(n_episodes):\n",
    "        # reset the environment  \n",
    "        env_info = env.reset(train_mode=True)[brain_name]\n",
    "        # get the current state (for each agent)\n",
    "        states = env_info.vector_observations\n",
    "        # initialize the score (for each agent)\n",
    "        score = np.zeros(num_agents)\n",
    "        # Reset the agent noise process\n",
    "        agent.reset()\n",
    "        \n",
    "        while True:\n",
    "            # Select an action (for each agent)\n",
    "            actions = agent.act(states, add_noise=True)\n",
    "            # Send all actions to tne environment\n",
    "            env_info = env.step(actions)[brain_name] \n",
    "            # Get next state (for each agent)\n",
    "            next_states = env_info.vector_observations\n",
    "            # Get reward (for each agent)\n",
    "            rewards = env_info.rewards\n",
    "            # See if episode finished\n",
    "            dones = env_info.local_done\n",
    "            # Add experience to replay buffer and do learning\n",
    "            agent.step(states, actions, rewards, next_states, dones)\n",
    "            # Update the score (for each agent)\n",
    "            score += rewards\n",
    "            # Roll over states to next time step\n",
    "            states = next_states\n",
    "            # Exit loop if episode finished\n",
    "            if np.any(dones):                                  \n",
    "                break\n",
    "                \n",
    "        # Append the score in this episode.        \n",
    "        scores.append(np.mean(score))\n",
    "        scores_window.append(np.mean(score))\n",
    "        \n",
    "        # Print scores\n",
    "        print('\\rEpisode: \\t{} \\tScore: \\t{:.2f} \\tAverage Score: \\t{:.2f}'.format(episode + 1, np.mean(score), np.mean(scores_window)), end=\"\")  \n",
    "        \n",
    "        if np.mean(scores_window) >= 30.0 and not solved:\n",
    "            solved = True\n",
    "            print('\\nEnvironment solved in episode {:d}!\\tAverage Score: {:.2f}'.format(episode - 99, np.mean(scores_window)))\n",
    "        if np.mean(score) > best_score:\n",
    "            print(\"\\nNew highscore, Model saved. \\tScore: {:.2f}\".format(np.mean(score)))\n",
    "            best_score = np.mean(score)\n",
    "            agent.save()\n",
    "    \n",
    "    # Plot the rewards\n",
    "    fig = plt.figure()\n",
    "    plt.plot(np.arange(1, len(scores)+1), scores)\n",
    "    plt.ylabel('Score')\n",
    "    plt.xlabel('Episode #')\n",
    "    plt.show()\n",
    "    fig.savefig('Assets/reward_plot.png')\n",
    "    \n",
    "    return scores"
   ]
  },
  {
   "cell_type": "code",
   "execution_count": 7,
   "metadata": {},
   "outputs": [
    {
     "name": "stdout",
     "output_type": "stream",
     "text": [
      "Episode: \t58 \tScore: \t30.34 \tAverage Score: \t9.73\n",
      "New highscore, Model saved. \tScore: 30.34\n",
      "Episode: \t59 \tScore: \t33.11 \tAverage Score: \t10.13\n",
      "New highscore, Model saved. \tScore: 33.11\n",
      "Episode: \t60 \tScore: \t35.21 \tAverage Score: \t10.55\n",
      "New highscore, Model saved. \tScore: 35.21\n",
      "Episode: \t61 \tScore: \t37.68 \tAverage Score: \t10.99\n",
      "New highscore, Model saved. \tScore: 37.68\n",
      "Episode: \t135 \tScore: \t30.97 \tAverage Score: \t30.08\n",
      "Environment solved in episode 35!\tAverage Score: 30.08\n",
      "Episode: \t142 \tScore: \t37.89 \tAverage Score: \t31.40\n",
      "New highscore, Model saved. \tScore: 37.89\n",
      "Episode: \t144 \tScore: \t38.54 \tAverage Score: \t31.65\n",
      "New highscore, Model saved. \tScore: 38.54\n",
      "Episode: \t145 \tScore: \t38.57 \tAverage Score: \t31.79\n",
      "New highscore, Model saved. \tScore: 38.57\n",
      "Episode: \t146 \tScore: \t39.08 \tAverage Score: \t31.94\n",
      "New highscore, Model saved. \tScore: 39.08\n",
      "Episode: \t175 \tScore: \t37.16 \tAverage Score: \t33.95"
     ]
    },
    {
     "data": {
      "image/png": "[encoded data removed]",
      "text/plain": [
       "<Figure size 432x288 with 1 Axes>"
      ]
     },
     "metadata": {
      "needs_background": "light"
     },
     "output_type": "display_data"
    }
   ],
   "source": [
    "# Train the agent\n",
    "train_scores = train(agent, 175)"
   ]
  },
  {
   "cell_type": "markdown",
   "metadata": {},
   "source": [
    "### 4. Load the trained agent\n",
    "\n",
    "Load the trained agent and run for one episode to look at the result."
   ]
  },
  {
   "cell_type": "code",
   "execution_count": 8,
   "metadata": {},
   "outputs": [
    {
     "name": "stdout",
     "output_type": "stream",
     "text": [
      "Total score (averaged over agents) this episode: 38.90799913033843\n"
     ]
    }
   ],
   "source": [
    "from agent import Agent\n",
    "\n",
    "# Create the agent\n",
    "agent = Agent(state_size, action_size, num_agents, 5)\n",
    "# Load the checkpoint files\n",
    "agent.load(\"256_256_actor.pth\", \"256_256_critic.pth\")\n",
    "\n",
    "# Reset the environment \n",
    "env_info = env.reset(train_mode=False)[brain_name]\n",
    "# Get the current state (for each agent)\n",
    "states = env_info.vector_observations\n",
    "# Initialize the score (for each agent)\n",
    "scores = np.zeros(num_agents)                          \n",
    "\n",
    "while True:\n",
    "    # Get the actions from policy network\n",
    "    actions = agent.act(states, add_noise=False)\n",
    "    # Send all actions to tne environment\n",
    "    env_info = env.step(actions)[brain_name]\n",
    "    # Get next state (for each agent)\n",
    "    next_states = env_info.vector_observations\n",
    "    # Get reward (for each agent)\n",
    "    rewards = env_info.rewards \n",
    "    # See if episode finished\n",
    "    dones = env_info.local_done\n",
    "    # Update the score (for each agent)\n",
    "    scores += env_info.rewards\n",
    "    # Roll over states to next time step\n",
    "    states = next_states\n",
    "    # Exit loop if episode finished\n",
    "    if np.any(dones):                                  \n",
    "        break\n",
    "        \n",
    "print('Total score (averaged over agents) this episode: {}'.format(np.mean(scores)))"
   ]
  },
  {
   "cell_type": "markdown",
   "metadata": {},
   "source": [
    "When finished, you can close the environment."
   ]
  },
  {
   "cell_type": "code",
   "execution_count": 9,
   "metadata": {},
   "outputs": [],
   "source": [
    "env.close()"
   ]
  }
 ],
 "metadata": {
  "kernelspec": {
   "display_name": "torch0.4",
   "language": "python",
   "name": "torch0.4"
  },
  "language_info": {
   "codemirror_mode": {
    "name": "ipython",
    "version": 3
   },
   "file_extension": ".py",
   "mimetype": "text/x-python",
   "name": "python",
   "nbconvert_exporter": "python",
   "pygments_lexer": "ipython3",
   "version": "3.6.8"
  }
 },
 "nbformat": 4,
 "nbformat_minor": 2
}
